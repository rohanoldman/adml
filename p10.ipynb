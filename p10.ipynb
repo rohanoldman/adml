{
  "nbformat": 4,
  "nbformat_minor": 0,
  "metadata": {
    "colab": {
      "provenance": []
    },
    "kernelspec": {
      "name": "python3",
      "display_name": "Python 3"
    },
    "language_info": {
      "name": "python"
    }
  },
  "cells": [
    {
      "cell_type": "code",
      "execution_count": 3,
      "metadata": {
        "id": "E0vk5hxhVpLb",
        "colab": {
          "base_uri": "https://localhost:8080/"
        },
        "outputId": "a158c6ae-518a-42a6-c206-b0072ad71f36"
      },
      "outputs": [
        {
          "output_type": "stream",
          "name": "stdout",
          "text": [
            "1/1 [==============================] - 1s 1s/step\n",
            "Downloading data from https://storage.googleapis.com/download.tensorflow.org/data/imagenet_class_index.json\n",
            "35363/35363 [==============================] - 0s 0us/step\n",
            "Object  1 :  necklace , Probability:  0.99645376\n",
            "Object  2 :  chain , Probability:  0.0024699785\n"
          ]
        }
      ],
      "source": [
        "import tensorflow as tf\n",
        "import numpy as np\n",
        "from tensorflow.keras.preprocessing.image import load_img\n",
        "from tensorflow.keras.preprocessing.image import img_to_array\n",
        "from tensorflow.keras.applications.vgg16 import VGG16\n",
        "from tensorflow.keras.applications.vgg16 import preprocess_input\n",
        "from tensorflow.keras.applications.vgg16 import decode_predictions\n",
        "# Load the VGG16 model with pre-trained weights\n",
        "model = VGG16()\n",
        "# Load the image\n",
        "image = load_img('/home/objectdetectimage.jpg', target_size=(224, 224))\n",
        "# Convert the image to a numpy array\n",
        "image = img_to_array(image)\n",
        "# Reshape the image data for VGG\n",
        "image = image.reshape((1, image.shape[0], image.shape[1], image.shape[2]))\n",
        "# Preprocess the image\n",
        "image = preprocess_input(image)\n",
        "# Make predictions on the image using the VGG model\n",
        "predictions = model.predict(image)\n",
        "# Decode the predictions\n",
        "decoded_predictions = decode_predictions(predictions, top=2)\n",
        "# Print the predictions with their probabilities\n",
        "for i, prediction in enumerate(decoded_predictions[0]):\n",
        "  print(\"Object \", i+1, \": \", prediction[1], \", Probability: \", prediction[2])"
      ]
    }
  ]
}