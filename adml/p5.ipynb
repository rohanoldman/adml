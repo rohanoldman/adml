{
 "cells": [
  {
   "cell_type": "code",
   "execution_count": null,
   "id": "78617038",
   "metadata": {},
   "outputs": [],
   "source": [
    "# Practical 5: Implement Convolutional Neural Network for Digit Recognition on the MNIST Dataset."
   ]
  },
  {
   "cell_type": "code",
   "execution_count": 1,
   "id": "08c75cae",
   "metadata": {},
   "outputs": [
    {
     "name": "stdout",
     "output_type": "stream",
     "text": [
      "Epoch 1/10\n",
      "469/469 [==============================] - 36s 74ms/step - loss: 0.2302 - accuracy: 0.9335 - val_loss: 0.0706 - val_accuracy: 0.9783\n",
      "Epoch 2/10\n",
      "469/469 [==============================] - 37s 79ms/step - loss: 0.0646 - accuracy: 0.9797 - val_loss: 0.0435 - val_accuracy: 0.9857\n",
      "Epoch 3/10\n",
      "469/469 [==============================] - 52s 111ms/step - loss: 0.0468 - accuracy: 0.9858 - val_loss: 0.0374 - val_accuracy: 0.9878\n",
      "Epoch 4/10\n",
      "469/469 [==============================] - 63s 134ms/step - loss: 0.0364 - accuracy: 0.9893 - val_loss: 0.0379 - val_accuracy: 0.9886\n",
      "Epoch 5/10\n",
      "469/469 [==============================] - 61s 130ms/step - loss: 0.0293 - accuracy: 0.9908 - val_loss: 0.0318 - val_accuracy: 0.9899\n",
      "Epoch 6/10\n",
      "469/469 [==============================] - 59s 125ms/step - loss: 0.0239 - accuracy: 0.9929 - val_loss: 0.0339 - val_accuracy: 0.9889\n",
      "Epoch 7/10\n",
      "469/469 [==============================] - 59s 126ms/step - loss: 0.0183 - accuracy: 0.9945 - val_loss: 0.0296 - val_accuracy: 0.9900\n",
      "Epoch 8/10\n",
      "469/469 [==============================] - 55s 118ms/step - loss: 0.0167 - accuracy: 0.9949 - val_loss: 0.0296 - val_accuracy: 0.9910\n",
      "Epoch 9/10\n",
      "469/469 [==============================] - 55s 117ms/step - loss: 0.0133 - accuracy: 0.9957 - val_loss: 0.0329 - val_accuracy: 0.9908\n",
      "Epoch 10/10\n",
      "469/469 [==============================] - 59s 126ms/step - loss: 0.0109 - accuracy: 0.9968 - val_loss: 0.0367 - val_accuracy: 0.9895\n",
      "313/313 [==============================] - 5s 17ms/step - loss: 0.0367 - accuracy: 0.9895\n",
      "Test accuracy: 0.9894999861717224\n",
      "Sample image true label: 7\n",
      "Sample image predicted label: 7\n"
     ]
    },
    {
     "data": {
      "image/png": "[encoded data removed]",
      "text/plain": [
       "<Figure size 432x288 with 1 Axes>"
      ]
     },
     "metadata": {
      "needs_background": "light"
     },
     "output_type": "display_data"
    }
   ],
   "source": [
    "import tensorflow as tf\n",
    "from tensorflow import keras\n",
    "import numpy as np\n",
    "import matplotlib.pyplot as plt\n",
    "\n",
    "# Load the MNIST dataset\n",
    "(x_train, y_train), (x_test, y_test) = keras.datasets.mnist.load_data()\n",
    "\n",
    "# Preprocess the data\n",
    "x_train = x_train.astype(\"float32\") / 255.0\n",
    "x_test = x_test.astype(\"float32\") / 255.0\n",
    "x_train = np.expand_dims(x_train, -1)\n",
    "x_test = np.expand_dims(x_test, -1)\n",
    "\n",
    "# Define the CNN architecture\n",
    "model = keras.models.Sequential([\n",
    "    keras.layers.Conv2D(32, (3, 3), activation=\"relu\", input_shape=(28, 28, 1)),\n",
    "    keras.layers.MaxPooling2D((2, 2)),\n",
    "    keras.layers.Conv2D(64, (3, 3), activation=\"relu\"),\n",
    "    keras.layers.MaxPooling2D((2, 2)),\n",
    "    keras.layers.Flatten(),\n",
    "    keras.layers.Dense(64, activation=\"relu\"),\n",
    "    keras.layers.Dense(10, activation=\"softmax\")\n",
    "])\n",
    "\n",
    "# Compile the model\n",
    "model.compile(optimizer=\"adam\", loss=\"sparse_categorical_crossentropy\", metrics=[\"accuracy\"])\n",
    "\n",
    "# Train the model\n",
    "history = model.fit(x_train, y_train, epochs=10, batch_size=128, validation_data=(x_test, y_test))\n",
    "\n",
    "# Evaluate the model on the test data\n",
    "test_loss, test_acc = model.evaluate(x_test, y_test)\n",
    "print(\"Test accuracy:\", test_acc)\n",
    "\n",
    "# Show predictions for a sample input image\n",
    "sample_img = x_test[0]\n",
    "sample_label = y_test[0]\n",
    "sample_img = np.expand_dims(sample_img, 0)\n",
    "pred = model.predict(sample_img)\n",
    "pred_label = np.argmax(pred)\n",
    "print(\"Sample image true label:\", sample_label)\n",
    "print(\"Sample image predicted label:\", pred_label)\n",
    "\n",
    "# Display the sample image\n",
    "plt.imshow(sample_img.squeeze(), cmap='gray')\n",
    "plt.show()\n"
   ]
  },
  {
   "cell_type": "code",
   "execution_count": null,
   "id": "ac037e68",
   "metadata": {},
   "outputs": [],
   "source": []
  }
 ],
 "metadata": {
  "kernelspec": {
   "display_name": "Python 3 (ipykernel)",
   "language": "python",
   "name": "python3"
  },
  "language_info": {
   "codemirror_mode": {
    "name": "ipython",
    "version": 3
   },
   "file_extension": ".py",
   "mimetype": "text/x-python",
   "name": "python",
   "nbconvert_exporter": "python",
   "pygments_lexer": "ipython3",
   "version": "3.9.7"
  }
 },
 "nbformat": 4,
 "nbformat_minor": 5
}
