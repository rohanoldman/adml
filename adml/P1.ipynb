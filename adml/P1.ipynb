{
 "cells": [
  {
   "cell_type": "markdown",
   "id": "aa94d5fd",
   "metadata": {},
   "source": [
    "### Practical 1: Implement Feed-forward Neural Network and train the network with different optimizers and compare the results."
   ]
  },
  {
   "cell_type": "code",
   "execution_count": 1,
   "id": "5bef8500",
   "metadata": {},
   "outputs": [],
   "source": [
    "import tensorflow as tf\n",
    "import numpy as np\n",
    "from sklearn.datasets import load_iris\n",
    "from sklearn.model_selection import train_test_split\n",
    "from sklearn.preprocessing import LabelBinarizer"
   ]
  },
  {
   "cell_type": "code",
   "execution_count": 2,
   "id": "6e61f5f8",
   "metadata": {},
   "outputs": [],
   "source": [
    "# Load Iris dataset\n",
    "iris = load_iris()\n"
   ]
  },
  {
   "cell_type": "code",
   "execution_count": 3,
   "id": "6a741304",
   "metadata": {},
   "outputs": [],
   "source": [
    "# get features and output\n",
    "X = iris.data\n",
    "y = iris.target"
   ]
  },
  {
   "cell_type": "code",
   "execution_count": 4,
   "id": "f94da2d9",
   "metadata": {},
   "outputs": [],
   "source": [
    "# One-hot encode labels\n",
    "lb = LabelBinarizer()\n",
    "y = lb.fit_transform(y)"
   ]
  },
  {
   "cell_type": "code",
   "execution_count": 5,
   "id": "6ce25101",
   "metadata": {},
   "outputs": [],
   "source": [
    "# Split data into train and test sets\n",
    "X_train, X_test, y_train, y_test = train_test_split(X, y, test_size=0.2, random_state=42)\n"
   ]
  },
  {
   "cell_type": "code",
   "execution_count": 6,
   "id": "126c299d",
   "metadata": {},
   "outputs": [],
   "source": [
    "# Define model architecture\n",
    "model = tf.keras.Sequential([\n",
    "tf.keras.layers.Dense(16, input_shape=(4,), activation='relu'),\n",
    "tf.keras.layers.Dense(8, activation='relu'),\n",
    "tf.keras.layers.Dense(3, activation='softmax')\n",
    "])\n"
   ]
  },
  {
   "cell_type": "code",
   "execution_count": 7,
   "id": "19ae2aad",
   "metadata": {},
   "outputs": [
    {
     "name": "stdout",
     "output_type": "stream",
     "text": [
      "Optimizer: sgd\n",
      "Test loss: 0.5644749999046326\n",
      "Test accuracy: 0.800000011920929\n",
      "Optimizer: adam\n",
      "Test loss: 0.3398230969905853\n",
      "Test accuracy: 1.0\n",
      "Optimizer: rmsprop\n",
      "Test loss: 0.2166113555431366\n",
      "Test accuracy: 1.0\n"
     ]
    }
   ],
   "source": [
    "# Define a list of optimizers to use\n",
    "optimizers = ['sgd', 'adam', 'rmsprop']\n",
    "\n",
    "# Loop over each optimizer and compile, train, and evaluate the model\n",
    "for optimizer in optimizers:\n",
    "    # Compile the model with the current optimizer\n",
    "    model.compile(loss='categorical_crossentropy', optimizer=optimizer, metrics=['accuracy'])\n",
    "    \n",
    "    # Train the model\n",
    "    history = model.fit(X_train, y_train, validation_data=(X_test, y_test), epochs=50, verbose=0)\n",
    "    \n",
    "    # Evaluate the model on the test set\n",
    "    loss, accuracy = model.evaluate(X_test, y_test, verbose=0)\n",
    "    \n",
    "    # Print the optimizer, test loss, and test accuracy\n",
    "    print('Optimizer:', optimizer)\n",
    "    print('Test loss:', loss)\n",
    "    print('Test accuracy:', accuracy) \n"
   ]
  },
  {
   "cell_type": "code",
   "execution_count": 8,
   "id": "eb827849",
   "metadata": {},
   "outputs": [
    {
     "name": "stdout",
     "output_type": "stream",
     "text": [
      "Optimizer: sgd\n",
      "Test loss: 0.602544903755188\n",
      "Test accuracy: 0.9333333373069763\n",
      "Optimizer: adam\n",
      "Test loss: 0.3013876974582672\n",
      "Test accuracy: 0.9666666388511658\n",
      "Optimizer: rmsprop\n",
      "Test loss: 0.18588462471961975\n",
      "Test accuracy: 0.9666666388511658\n",
      "\n",
      "Input values for the flower attributes:\n",
      "Sepal length (cm): 1\n",
      "Sepal width (cm): 1\n",
      "Petal length (cm): 1\n",
      "Petal width (cm): 1\n",
      "\n",
      "Predicted class:  versicolor\n"
     ]
    }
   ],
   "source": [
    "import tensorflow as tf\n",
    "import numpy as np\n",
    "from sklearn.datasets import load_iris\n",
    "from sklearn.model_selection import train_test_split\n",
    "from sklearn.preprocessing import LabelBinarizer\n",
    "\n",
    "# Load Iris dataset\n",
    "iris = load_iris()\n",
    "X = iris.data\n",
    "y = iris.target\n",
    "\n",
    "# One-hot encode labels\n",
    "lb = LabelBinarizer()\n",
    "y = lb.fit_transform(y)\n",
    "\n",
    "# Split data into train and test sets\n",
    "X_train, X_test, y_train, y_test = train_test_split(X, y, test_size=0.2, random_state=42)\n",
    "\n",
    "# Define model architecture\n",
    "model = tf.keras.Sequential([\n",
    "    tf.keras.layers.Dense(16, input_shape=(4,), activation='relu'),\n",
    "    tf.keras.layers.Dense(8, activation='relu'),\n",
    "    tf.keras.layers.Dense(3, activation='softmax')\n",
    "])\n",
    "\n",
    "# Compile model with different optimizers\n",
    "optimizers = ['sgd', 'adam', 'rmsprop']\n",
    "for optimizer in optimizers:\n",
    "    # Compile the model with current optimizer, 'categorical_crossentropy' as the loss function,\n",
    "    # and accuracy as the metric to be calculated\n",
    "    model.compile(loss='categorical_crossentropy', optimizer=optimizer, metrics=['accuracy'])\n",
    "\n",
    "    # Train model\n",
    "    history = model.fit(X_train, y_train, validation_data=(X_test, y_test), epochs=50, verbose=0)\n",
    "\n",
    "    # Evaluate model\n",
    "    loss, accuracy = model.evaluate(X_test, y_test, verbose=0)\n",
    "    print('Optimizer:', optimizer)\n",
    "    print('Test loss:', loss)\n",
    "    print('Test accuracy:', accuracy)\n",
    "\n",
    "# Allow user to input values for the flower attributes\n",
    "print('\\nInput values for the flower attributes:')\n",
    "sepal_length = float(input('Sepal length (cm): '))\n",
    "sepal_width = float(input('Sepal width (cm): '))\n",
    "petal_length = float(input('Petal length (cm): '))\n",
    "petal_width = float(input('Petal width (cm): '))\n",
    "\n",
    "# Predict class of flower based on input values\n",
    "input_values = np.array([[sepal_length, sepal_width, petal_length, petal_width]])\n",
    "prediction = model.predict(input_values)\n",
    "predicted_class = np.argmax(prediction)\n",
    "class_names = iris.target_names\n",
    "print('\\nPredicted class: ', class_names[predicted_class])\n"
   ]
  },
  {
   "cell_type": "code",
   "execution_count": 9,
   "id": "a4c3c51b",
   "metadata": {},
   "outputs": [
    {
     "name": "stdout",
     "output_type": "stream",
     "text": [
      "Optimizer: sgd\n",
      "Test loss: 0.4410543739795685\n",
      "Test accuracy: 0.9333333373069763\n",
      "Memory requirement: 0.00 MB\n",
      "Optimizer: adam\n",
      "Test loss: 0.2192431390285492\n",
      "Test accuracy: 1.0\n",
      "Memory requirement: 0.00 MB\n",
      "Optimizer: rmsprop\n",
      "Test loss: 0.13426509499549866\n",
      "Test accuracy: 1.0\n",
      "Memory requirement: 0.00 MB\n"
     ]
    }
   ],
   "source": [
    "import tensorflow as tf\n",
    "import numpy as np\n",
    "from sklearn.datasets import load_iris\n",
    "from sklearn.model_selection import train_test_split\n",
    "from sklearn.preprocessing import LabelBinarizer\n",
    "\n",
    "# Load Iris dataset\n",
    "iris = load_iris()\n",
    "X = iris.data\n",
    "y = iris.target\n",
    "\n",
    "# One-hot encode labels\n",
    "lb = LabelBinarizer()\n",
    "y = lb.fit_transform(y)\n",
    "\n",
    "# Split data into train and test sets\n",
    "X_train, X_test, y_train, y_test = train_test_split(X, y, test_size=0.2, random_state=42)\n",
    "\n",
    "# Define model architecture\n",
    "model = tf.keras.Sequential([\n",
    "    tf.keras.layers.Dense(16, input_shape=(4,), activation='relu'),\n",
    "    tf.keras.layers.Dense(8, activation='relu'),\n",
    "    tf.keras.layers.Dense(3, activation='softmax')\n",
    "])\n",
    "\n",
    "# Define dictionary of optimizers\n",
    "optimizers = {\n",
    "    'sgd': tf.keras.optimizers.SGD(),\n",
    "    'adam': tf.keras.optimizers.Adam(),\n",
    "    'rmsprop': tf.keras.optimizers.RMSprop()\n",
    "}\n",
    "\n",
    "# Compile model with different optimizers\n",
    "for optimizer_name, optimizer in optimizers.items():\n",
    "    model.compile(loss='categorical_crossentropy', optimizer=optimizer, metrics=['accuracy'])\n",
    "\n",
    "    # Train model\n",
    "    history = model.fit(X_train, y_train, validation_data=(X_test, y_test), epochs=50, verbose=0)\n",
    "\n",
    "    # Evaluate model\n",
    "    loss, accuracy = model.evaluate(X_test, y_test, verbose=0)\n",
    "    print('Optimizer:', optimizer_name)\n",
    "    print('Test loss:', loss)\n",
    "    print('Test accuracy:', accuracy)\n",
    "\n",
    "    # Estimate memory requirement\n",
    "    size_in_bytes = model.count_params() * 4  # each parameter is a 32-bit float\n",
    "    size_in_mb = size_in_bytes / (1024 * 1024)\n",
    "    print(f'Memory requirement: {size_in_mb:.2f} MB')\n"
   ]
  },
  {
   "cell_type": "code",
   "execution_count": null,
   "id": "458c6e60",
   "metadata": {},
   "outputs": [],
   "source": []
  },
  {
   "cell_type": "code",
   "execution_count": null,
   "id": "deca38b1",
   "metadata": {},
   "outputs": [],
   "source": []
  }
 ],
 "metadata": {
  "kernelspec": {
   "display_name": "Python 3 (ipykernel)",
   "language": "python",
   "name": "python3"
  },
  "language_info": {
   "codemirror_mode": {
    "name": "ipython",
    "version": 3
   },
   "file_extension": ".py",
   "mimetype": "text/x-python",
   "name": "python",
   "nbconvert_exporter": "python",
   "pygments_lexer": "ipython3",
   "version": "3.9.7"
  }
 },
 "nbformat": 4,
 "nbformat_minor": 5
}
